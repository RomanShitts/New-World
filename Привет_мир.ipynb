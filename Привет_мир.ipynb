{
  "nbformat": 4,
  "nbformat_minor": 0,
  "metadata": {
    "colab": {
      "name": "Привет мир.ipynb",
      "provenance": [],
      "collapsed_sections": [],
      "authorship_tag": "ABX9TyP3SywpH+wlCj6ZMJA7k3A4",
      "include_colab_link": true
    },
    "kernelspec": {
      "name": "python3",
      "display_name": "Python 3"
    }
  },
  "cells": [
    {
      "cell_type": "markdown",
      "metadata": {
        "id": "view-in-github",
        "colab_type": "text"
      },
      "source": [
        "<a href=\"https://colab.research.google.com/github/RomanShitts/New-World/blob/main/%D0%9F%D1%80%D0%B8%D0%B2%D0%B5%D1%82_%D0%BC%D0%B8%D1%80.ipynb\" target=\"_parent\"><img src=\"https://colab.research.google.com/assets/colab-badge.svg\" alt=\"Open In Colab\"/></a>"
      ]
    },
    {
      "cell_type": "markdown",
      "metadata": {
        "id": "dGVzhb_5yOav"
      },
      "source": [
        "Шитц Роман Олегович, КИ19-20Б"
      ]
    },
    {
      "cell_type": "code",
      "metadata": {
        "id": "Z2qmKBjvySZf"
      },
      "source": [
        "print(\"Привет, мир!\")"
      ],
      "execution_count": null,
      "outputs": []
    }
  ]
}